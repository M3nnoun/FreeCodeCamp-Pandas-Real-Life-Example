{
 "cells": [
  {
   "cell_type": "markdown",
   "metadata": {},
   "source": [
    "![rmotr](https://user-images.githubusercontent.com/7065401/52071918-bda15380-2562-11e9-828c-7f95297e4a82.png)\n",
    "<hr style=\"margin-bottom: 40px;\">\n",
    "\n",
    "# The Sakila Database\n",
    "\n",
    "One of the best example databases out there is the <a href=\"https://dev.mysql.com/doc/sakila/en/\">Sakila Database</a>, which was originally created by MySQL and has been open sourced under the terms of the BSD License.\n",
    "\n",
    "The Sakila database is a nicely normalised schema modelling a DVD rental store, featuring things like films, actors, film-actor relationships, and a central inventory table that connects films, stores, and rentals.\n",
    "\n",
    "<img width=\"1200px\" src=\"https://user-images.githubusercontent.com/7065401/58504872-fa243b00-8161-11e9-85ed-4b7d8d7ce9f7.png\" />"
   ]
  },
  {
   "cell_type": "markdown",
   "metadata": {},
   "source": [
    "![purple-divider](https://user-images.githubusercontent.com/7065401/52071927-c1cd7100-2562-11e9-908a-dde91ba14e59.png)\n",
    "\n",
    "## Hands on! "
   ]
  },
  {
   "cell_type": "code",
   "execution_count": 1,
   "metadata": {},
   "outputs": [],
   "source": [
    "import numpy as np\n",
    "import pandas as pd\n",
    "import matplotlib.pyplot as plt\n",
    "import sqlite3\n",
    "\n",
    "%matplotlib inline"
   ]
  },
  {
   "cell_type": "markdown",
   "metadata": {},
   "source": [
    "![green-divider](https://user-images.githubusercontent.com/7065401/52071924-c003ad80-2562-11e9-8297-1c6595f8a7ff.png)\n",
    "\n",
    "## Loading our data:"
   ]
  },
  {
   "cell_type": "code",
   "execution_count": 3,
   "metadata": {},
   "outputs": [],
   "source": [
    "conn = sqlite3.connect('data/sakila.db')\n",
    "\n",
    "df = pd.read_sql('''\n",
    "    SELECT\n",
    "        rental.rental_id, rental.rental_date, rental.return_date,\n",
    "        customer.last_name AS customer_lastname,\n",
    "        store.store_id,\n",
    "        city.city AS rental_store_city,\n",
    "        film.title AS film_title, film.rental_duration AS film_rental_duration,\n",
    "        film.rental_rate AS film_rental_rate, film.replacement_cost AS film_replacement_cost,\n",
    "        film.rating AS film_rating\n",
    "    FROM rental\n",
    "    INNER JOIN customer ON rental.customer_id == customer.customer_id\n",
    "    INNER JOIN inventory ON rental.inventory_id == inventory.inventory_id\n",
    "    INNER JOIN store ON inventory.store_id == store.store_id\n",
    "    INNER JOIN address ON store.address_id == address.address_id\n",
    "    INNER JOIN city ON address.city_id == city.city_id\n",
    "    INNER JOIN film ON inventory.film_id == film.film_id\n",
    "    ;\n",
    "''', conn, index_col='rental_id', parse_dates=['rental_date', 'return_date'])"
   ]
  },
  {
   "cell_type": "markdown",
   "metadata": {},
   "source": [
    "![green-divider](https://user-images.githubusercontent.com/7065401/52071924-c003ad80-2562-11e9-8297-1c6595f8a7ff.png)\n",
    "\n",
    "## The data at a glance:"
   ]
  },
  {
   "cell_type": "code",
   "execution_count": 4,
   "metadata": {},
   "outputs": [
    {
     "data": {
      "text/html": [
       "<div>\n",
       "<style scoped>\n",
       "    .dataframe tbody tr th:only-of-type {\n",
       "        vertical-align: middle;\n",
       "    }\n",
       "\n",
       "    .dataframe tbody tr th {\n",
       "        vertical-align: top;\n",
       "    }\n",
       "\n",
       "    .dataframe thead th {\n",
       "        text-align: right;\n",
       "    }\n",
       "</style>\n",
       "<table border=\"1\" class=\"dataframe\">\n",
       "  <thead>\n",
       "    <tr style=\"text-align: right;\">\n",
       "      <th></th>\n",
       "      <th>rental_date</th>\n",
       "      <th>return_date</th>\n",
       "      <th>customer_lastname</th>\n",
       "      <th>store_id</th>\n",
       "      <th>rental_store_city</th>\n",
       "      <th>film_title</th>\n",
       "      <th>film_rental_duration</th>\n",
       "      <th>film_rental_rate</th>\n",
       "      <th>film_replacement_cost</th>\n",
       "      <th>film_rating</th>\n",
       "    </tr>\n",
       "    <tr>\n",
       "      <th>rental_id</th>\n",
       "      <th></th>\n",
       "      <th></th>\n",
       "      <th></th>\n",
       "      <th></th>\n",
       "      <th></th>\n",
       "      <th></th>\n",
       "      <th></th>\n",
       "      <th></th>\n",
       "      <th></th>\n",
       "      <th></th>\n",
       "    </tr>\n",
       "  </thead>\n",
       "  <tbody>\n",
       "    <tr>\n",
       "      <th>1</th>\n",
       "      <td>2005-05-24 22:53:30</td>\n",
       "      <td>2005-05-26 22:04:30</td>\n",
       "      <td>HUNTER</td>\n",
       "      <td>1</td>\n",
       "      <td>Lethbridge</td>\n",
       "      <td>BLANKET BEVERLY</td>\n",
       "      <td>7</td>\n",
       "      <td>2.99</td>\n",
       "      <td>21.99</td>\n",
       "      <td>G</td>\n",
       "    </tr>\n",
       "    <tr>\n",
       "      <th>2</th>\n",
       "      <td>2005-05-24 22:54:33</td>\n",
       "      <td>2005-05-28 19:40:33</td>\n",
       "      <td>COLLAZO</td>\n",
       "      <td>2</td>\n",
       "      <td>Woodridge</td>\n",
       "      <td>FREAKY POCUS</td>\n",
       "      <td>7</td>\n",
       "      <td>2.99</td>\n",
       "      <td>16.99</td>\n",
       "      <td>R</td>\n",
       "    </tr>\n",
       "    <tr>\n",
       "      <th>3</th>\n",
       "      <td>2005-05-24 23:03:39</td>\n",
       "      <td>2005-06-01 22:12:39</td>\n",
       "      <td>MURRELL</td>\n",
       "      <td>2</td>\n",
       "      <td>Woodridge</td>\n",
       "      <td>GRADUATE LORD</td>\n",
       "      <td>7</td>\n",
       "      <td>2.99</td>\n",
       "      <td>14.99</td>\n",
       "      <td>G</td>\n",
       "    </tr>\n",
       "    <tr>\n",
       "      <th>4</th>\n",
       "      <td>2005-05-24 23:04:41</td>\n",
       "      <td>2005-06-03 01:43:41</td>\n",
       "      <td>PURDY</td>\n",
       "      <td>1</td>\n",
       "      <td>Lethbridge</td>\n",
       "      <td>LOVE SUICIDES</td>\n",
       "      <td>6</td>\n",
       "      <td>0.99</td>\n",
       "      <td>21.99</td>\n",
       "      <td>R</td>\n",
       "    </tr>\n",
       "    <tr>\n",
       "      <th>5</th>\n",
       "      <td>2005-05-24 23:05:21</td>\n",
       "      <td>2005-06-02 04:33:21</td>\n",
       "      <td>HANSEN</td>\n",
       "      <td>2</td>\n",
       "      <td>Woodridge</td>\n",
       "      <td>IDOLS SNATCHERS</td>\n",
       "      <td>5</td>\n",
       "      <td>2.99</td>\n",
       "      <td>29.99</td>\n",
       "      <td>NC-17</td>\n",
       "    </tr>\n",
       "  </tbody>\n",
       "</table>\n",
       "</div>"
      ],
      "text/plain": [
       "                  rental_date         return_date customer_lastname  store_id  \\\n",
       "rental_id                                                                       \n",
       "1         2005-05-24 22:53:30 2005-05-26 22:04:30            HUNTER         1   \n",
       "2         2005-05-24 22:54:33 2005-05-28 19:40:33           COLLAZO         2   \n",
       "3         2005-05-24 23:03:39 2005-06-01 22:12:39           MURRELL         2   \n",
       "4         2005-05-24 23:04:41 2005-06-03 01:43:41             PURDY         1   \n",
       "5         2005-05-24 23:05:21 2005-06-02 04:33:21            HANSEN         2   \n",
       "\n",
       "          rental_store_city       film_title  film_rental_duration  \\\n",
       "rental_id                                                            \n",
       "1                Lethbridge  BLANKET BEVERLY                     7   \n",
       "2                 Woodridge     FREAKY POCUS                     7   \n",
       "3                 Woodridge    GRADUATE LORD                     7   \n",
       "4                Lethbridge    LOVE SUICIDES                     6   \n",
       "5                 Woodridge  IDOLS SNATCHERS                     5   \n",
       "\n",
       "           film_rental_rate  film_replacement_cost film_rating  \n",
       "rental_id                                                       \n",
       "1                      2.99                  21.99           G  \n",
       "2                      2.99                  16.99           R  \n",
       "3                      2.99                  14.99           G  \n",
       "4                      0.99                  21.99           R  \n",
       "5                      2.99                  29.99       NC-17  "
      ]
     },
     "execution_count": 4,
     "metadata": {},
     "output_type": "execute_result"
    }
   ],
   "source": [
    "df.head()"
   ]
  },
  {
   "cell_type": "code",
   "execution_count": 5,
   "metadata": {},
   "outputs": [
    {
     "data": {
      "text/plain": [
       "(16044, 10)"
      ]
     },
     "execution_count": 5,
     "metadata": {},
     "output_type": "execute_result"
    }
   ],
   "source": [
    "df.shape"
   ]
  },
  {
   "cell_type": "code",
   "execution_count": 6,
   "metadata": {},
   "outputs": [
    {
     "name": "stdout",
     "output_type": "stream",
     "text": [
      "<class 'pandas.core.frame.DataFrame'>\n",
      "Index: 16044 entries, 1 to 16049\n",
      "Data columns (total 10 columns):\n",
      " #   Column                 Non-Null Count  Dtype         \n",
      "---  ------                 --------------  -----         \n",
      " 0   rental_date            16044 non-null  datetime64[ns]\n",
      " 1   return_date            15861 non-null  datetime64[ns]\n",
      " 2   customer_lastname      16044 non-null  object        \n",
      " 3   store_id               16044 non-null  int64         \n",
      " 4   rental_store_city      16044 non-null  object        \n",
      " 5   film_title             16044 non-null  object        \n",
      " 6   film_rental_duration   16044 non-null  int64         \n",
      " 7   film_rental_rate       16044 non-null  float64       \n",
      " 8   film_replacement_cost  16044 non-null  float64       \n",
      " 9   film_rating            16044 non-null  object        \n",
      "dtypes: datetime64[ns](2), float64(2), int64(2), object(4)\n",
      "memory usage: 1.3+ MB\n"
     ]
    }
   ],
   "source": [
    "df.info()"
   ]
  },
  {
   "cell_type": "code",
   "execution_count": 7,
   "metadata": {},
   "outputs": [
    {
     "data": {
      "text/html": [
       "<div>\n",
       "<style scoped>\n",
       "    .dataframe tbody tr th:only-of-type {\n",
       "        vertical-align: middle;\n",
       "    }\n",
       "\n",
       "    .dataframe tbody tr th {\n",
       "        vertical-align: top;\n",
       "    }\n",
       "\n",
       "    .dataframe thead th {\n",
       "        text-align: right;\n",
       "    }\n",
       "</style>\n",
       "<table border=\"1\" class=\"dataframe\">\n",
       "  <thead>\n",
       "    <tr style=\"text-align: right;\">\n",
       "      <th></th>\n",
       "      <th>rental_date</th>\n",
       "      <th>return_date</th>\n",
       "      <th>store_id</th>\n",
       "      <th>film_rental_duration</th>\n",
       "      <th>film_rental_rate</th>\n",
       "      <th>film_replacement_cost</th>\n",
       "    </tr>\n",
       "  </thead>\n",
       "  <tbody>\n",
       "    <tr>\n",
       "      <th>count</th>\n",
       "      <td>16044</td>\n",
       "      <td>15861</td>\n",
       "      <td>16044.000000</td>\n",
       "      <td>16044.00000</td>\n",
       "      <td>16044.000000</td>\n",
       "      <td>16044.000000</td>\n",
       "    </tr>\n",
       "    <tr>\n",
       "      <th>mean</th>\n",
       "      <td>2005-07-23 08:12:53.217526912</td>\n",
       "      <td>2005-07-25 23:58:03.138768128</td>\n",
       "      <td>1.506171</td>\n",
       "      <td>4.93549</td>\n",
       "      <td>2.942630</td>\n",
       "      <td>20.215443</td>\n",
       "    </tr>\n",
       "    <tr>\n",
       "      <th>min</th>\n",
       "      <td>2005-05-24 22:53:30</td>\n",
       "      <td>2005-05-25 23:55:21</td>\n",
       "      <td>1.000000</td>\n",
       "      <td>3.00000</td>\n",
       "      <td>0.990000</td>\n",
       "      <td>9.990000</td>\n",
       "    </tr>\n",
       "    <tr>\n",
       "      <th>25%</th>\n",
       "      <td>2005-07-07 00:58:40.500000</td>\n",
       "      <td>2005-07-10 15:49:36</td>\n",
       "      <td>1.000000</td>\n",
       "      <td>4.00000</td>\n",
       "      <td>0.990000</td>\n",
       "      <td>14.990000</td>\n",
       "    </tr>\n",
       "    <tr>\n",
       "      <th>50%</th>\n",
       "      <td>2005-07-28 16:04:32.500000</td>\n",
       "      <td>2005-08-01 19:45:29</td>\n",
       "      <td>2.000000</td>\n",
       "      <td>5.00000</td>\n",
       "      <td>2.990000</td>\n",
       "      <td>20.990000</td>\n",
       "    </tr>\n",
       "    <tr>\n",
       "      <th>75%</th>\n",
       "      <td>2005-08-17 21:16:23</td>\n",
       "      <td>2005-08-20 23:35:55</td>\n",
       "      <td>2.000000</td>\n",
       "      <td>6.00000</td>\n",
       "      <td>4.990000</td>\n",
       "      <td>25.990000</td>\n",
       "    </tr>\n",
       "    <tr>\n",
       "      <th>max</th>\n",
       "      <td>2006-02-14 15:16:03</td>\n",
       "      <td>2005-09-02 02:35:22</td>\n",
       "      <td>2.000000</td>\n",
       "      <td>7.00000</td>\n",
       "      <td>4.990000</td>\n",
       "      <td>29.990000</td>\n",
       "    </tr>\n",
       "    <tr>\n",
       "      <th>std</th>\n",
       "      <td>NaN</td>\n",
       "      <td>NaN</td>\n",
       "      <td>0.499978</td>\n",
       "      <td>1.40169</td>\n",
       "      <td>1.649678</td>\n",
       "      <td>6.081771</td>\n",
       "    </tr>\n",
       "  </tbody>\n",
       "</table>\n",
       "</div>"
      ],
      "text/plain": [
       "                         rental_date                    return_date  \\\n",
       "count                          16044                          15861   \n",
       "mean   2005-07-23 08:12:53.217526912  2005-07-25 23:58:03.138768128   \n",
       "min              2005-05-24 22:53:30            2005-05-25 23:55:21   \n",
       "25%       2005-07-07 00:58:40.500000            2005-07-10 15:49:36   \n",
       "50%       2005-07-28 16:04:32.500000            2005-08-01 19:45:29   \n",
       "75%              2005-08-17 21:16:23            2005-08-20 23:35:55   \n",
       "max              2006-02-14 15:16:03            2005-09-02 02:35:22   \n",
       "std                              NaN                            NaN   \n",
       "\n",
       "           store_id  film_rental_duration  film_rental_rate  \\\n",
       "count  16044.000000           16044.00000      16044.000000   \n",
       "mean       1.506171               4.93549          2.942630   \n",
       "min        1.000000               3.00000          0.990000   \n",
       "25%        1.000000               4.00000          0.990000   \n",
       "50%        2.000000               5.00000          2.990000   \n",
       "75%        2.000000               6.00000          4.990000   \n",
       "max        2.000000               7.00000          4.990000   \n",
       "std        0.499978               1.40169          1.649678   \n",
       "\n",
       "       film_replacement_cost  \n",
       "count           16044.000000  \n",
       "mean               20.215443  \n",
       "min                 9.990000  \n",
       "25%                14.990000  \n",
       "50%                20.990000  \n",
       "75%                25.990000  \n",
       "max                29.990000  \n",
       "std                 6.081771  "
      ]
     },
     "execution_count": 7,
     "metadata": {},
     "output_type": "execute_result"
    }
   ],
   "source": [
    "df.describe()"
   ]
  },
  {
   "cell_type": "markdown",
   "metadata": {},
   "source": [
    "![green-divider](https://user-images.githubusercontent.com/7065401/52071924-c003ad80-2562-11e9-8297-1c6595f8a7ff.png)\n",
    "\n",
    "## Numerical analysis and visualization\n",
    "\n",
    "We'll analyze the `film_rental_rate` column:"
   ]
  },
  {
   "cell_type": "code",
   "execution_count": 7,
   "metadata": {},
   "outputs": [
    {
     "data": {
      "text/plain": [
       "count    16044.000000\n",
       "mean         2.942630\n",
       "std          1.649678\n",
       "min          0.990000\n",
       "25%          0.990000\n",
       "50%          2.990000\n",
       "75%          4.990000\n",
       "max          4.990000\n",
       "Name: film_rental_rate, dtype: float64"
      ]
     },
     "execution_count": 7,
     "metadata": {},
     "output_type": "execute_result"
    }
   ],
   "source": [
    "df['film_rental_rate'].describe()"
   ]
  },
  {
   "cell_type": "code",
   "execution_count": 8,
   "metadata": {},
   "outputs": [
    {
     "data": {
      "text/plain": [
       "2.9426302667663933"
      ]
     },
     "execution_count": 8,
     "metadata": {},
     "output_type": "execute_result"
    }
   ],
   "source": [
    "df['film_rental_rate'].mean()"
   ]
  },
  {
   "cell_type": "code",
   "execution_count": 9,
   "metadata": {},
   "outputs": [
    {
     "data": {
      "text/plain": [
       "2.99"
      ]
     },
     "execution_count": 9,
     "metadata": {},
     "output_type": "execute_result"
    }
   ],
   "source": [
    "df['film_rental_rate'].median()"
   ]
  },
  {
   "cell_type": "code",
   "execution_count": 10,
   "metadata": {},
   "outputs": [
    {
     "data": {
      "text/plain": [
       "<matplotlib.axes._subplots.AxesSubplot at 0x7f25cb837df0>"
      ]
     },
     "execution_count": 10,
     "metadata": {},
     "output_type": "execute_result"
    },
    {
     "data": {
      "image/png": "[encoded data removed]",
      "text/plain": [
       "<Figure size 1008x432 with 1 Axes>"
      ]
     },
     "metadata": {
      "needs_background": "light"
     },
     "output_type": "display_data"
    }
   ],
   "source": [
    "df['film_rental_rate'].plot(kind='box', vert=False, figsize=(14,6))"
   ]
  },
  {
   "cell_type": "code",
   "execution_count": 11,
   "metadata": {},
   "outputs": [
    {
     "data": {
      "text/plain": [
       "<matplotlib.axes._subplots.AxesSubplot at 0x7f25cb858e80>"
      ]
     },
     "execution_count": 11,
     "metadata": {},
     "output_type": "execute_result"
    },
    {
     "data": {
      "image/png": "[encoded data removed]",
      "text/plain": [
       "<Figure size 1008x432 with 1 Axes>"
      ]
     },
     "metadata": {
      "needs_background": "light"
     },
     "output_type": "display_data"
    }
   ],
   "source": [
    "df['film_rental_rate'].plot(kind='density', figsize=(14,6)) # kde"
   ]
  },
  {
   "cell_type": "code",
   "execution_count": 12,
   "metadata": {},
   "outputs": [
    {
     "data": {
      "text/plain": [
       "Text(0, 0.5, 'Number of Rentals')"
      ]
     },
     "execution_count": 12,
     "metadata": {},
     "output_type": "execute_result"
    },
    {
     "data": {
      "image/png": "[encoded data removed]",
      "text/plain": [
       "<Figure size 1008x432 with 1 Axes>"
      ]
     },
     "metadata": {
      "needs_background": "light"
     },
     "output_type": "display_data"
    }
   ],
   "source": [
    "ax = df['film_rental_rate'].value_counts().plot(kind='bar', figsize=(14,6))\n",
    "ax.set_ylabel('Number of Rentals')"
   ]
  },
  {
   "cell_type": "markdown",
   "metadata": {},
   "source": [
    "![green-divider](https://user-images.githubusercontent.com/7065401/52071924-c003ad80-2562-11e9-8297-1c6595f8a7ff.png)\n",
    "\n",
    "## Categorical analysis and visualization\n",
    "\n",
    "We'll analyze the `rental_store_city` column:"
   ]
  },
  {
   "cell_type": "code",
   "execution_count": 13,
   "metadata": {},
   "outputs": [
    {
     "data": {
      "text/plain": [
       "Woodridge     8121\n",
       "Lethbridge    7923\n",
       "Name: rental_store_city, dtype: int64"
      ]
     },
     "execution_count": 13,
     "metadata": {},
     "output_type": "execute_result"
    }
   ],
   "source": [
    "df['rental_store_city'].value_counts()"
   ]
  },
  {
   "cell_type": "code",
   "execution_count": 14,
   "metadata": {},
   "outputs": [
    {
     "data": {
      "text/plain": [
       "<matplotlib.axes._subplots.AxesSubplot at 0x7f25bf853910>"
      ]
     },
     "execution_count": 14,
     "metadata": {},
     "output_type": "execute_result"
    },
    {
     "data": {
      "image/png": "[encoded data removed]",
      "text/plain": [
       "<Figure size 432x432 with 1 Axes>"
      ]
     },
     "metadata": {},
     "output_type": "display_data"
    }
   ],
   "source": [
    "df['rental_store_city'].value_counts().plot(kind='pie', figsize=(6,6))"
   ]
  },
  {
   "cell_type": "code",
   "execution_count": 15,
   "metadata": {},
   "outputs": [
    {
     "data": {
      "text/plain": [
       "Text(0, 0.5, 'Number of Rentals')"
      ]
     },
     "execution_count": 15,
     "metadata": {},
     "output_type": "execute_result"
    },
    {
     "data": {
      "image/png": "[encoded data removed]",
      "text/plain": [
       "<Figure size 1008x432 with 1 Axes>"
      ]
     },
     "metadata": {
      "needs_background": "light"
     },
     "output_type": "display_data"
    }
   ],
   "source": [
    "ax = df['rental_store_city'].value_counts().plot(kind='bar', figsize=(14,6))\n",
    "ax.set_ylabel('Number of Rentals')"
   ]
  },
  {
   "cell_type": "markdown",
   "metadata": {},
   "source": [
    "![green-divider](https://user-images.githubusercontent.com/7065401/52071924-c003ad80-2562-11e9-8297-1c6595f8a7ff.png)\n",
    "\n",
    "## Column wrangling\n",
    "\n",
    "We can also create new columns or modify existing ones.\n",
    "\n",
    "### Add and calculate a new `rental_rate_return` column\n",
    "\n",
    "We want to know the rental rate of return of each film. To do that we'll use this formula:\n",
    "\n",
    "$$ rental\\_gain\\_return = \\frac{film\\_rental\\_rate}{film\\_replacement\\_cost} * 100 $$"
   ]
  },
  {
   "cell_type": "code",
   "execution_count": 11,
   "metadata": {},
   "outputs": [
    {
     "data": {
      "text/plain": [
       "rental_id\n",
       "1    13.597090\n",
       "2    17.598587\n",
       "3    19.946631\n",
       "4     4.502046\n",
       "5     9.969990\n",
       "Name: rental_gain_return, dtype: float64"
      ]
     },
     "execution_count": 11,
     "metadata": {},
     "output_type": "execute_result"
    }
   ],
   "source": [
    "df['rental_gain_return'] = df['film_rental_rate'] / df['film_replacement_cost'] * 100\n",
    "\n",
    "df['rental_gain_return'].head()"
   ]
  },
  {
   "cell_type": "code",
   "execution_count": 12,
   "metadata": {},
   "outputs": [
    {
     "data": {
      "text/plain": [
       "<Axes: ylabel='Density'>"
      ]
     },
     "execution_count": 12,
     "metadata": {},
     "output_type": "execute_result"
    },
    {
     "data": {
      "image/png": "[encoded data removed]",
      "text/plain": [
       "<Figure size 1400x600 with 1 Axes>"
      ]
     },
     "metadata": {},
     "output_type": "display_data"
    }
   ],
   "source": [
    "df['rental_gain_return'].plot(kind='density', figsize=(14,6))"
   ]
  },
  {
   "cell_type": "code",
   "execution_count": 28,
   "metadata": {},
   "outputs": [
    {
     "name": "stdout",
     "output_type": "stream",
     "text": [
      "49.94994994994995\n"
     ]
    },
    {
     "data": {
      "text/plain": [
       "array(['MATRIX SNOWMAN', 'TRUMAN CRAZY', 'EDGE KISSING', 'KISSING DOLLS',\n",
       "       'PLUTO OLEANDER', 'MAIDEN HOME', 'CONTROL ANTHEM',\n",
       "       'FELLOWSHIP AUTUMN', 'STEPMOM DREAM', 'OPPOSITE NECKLACE',\n",
       "       'NORTH TEQUILA', 'DAISY MENAGERIE', 'DUDE BLINDNESS',\n",
       "       'THIN SAGEBRUSH', 'STING PERSONAL', 'PATHS CONTROL',\n",
       "       'HEARTBREAKERS BRIGHT'], dtype=object)"
      ]
     },
     "execution_count": 28,
     "metadata": {},
     "output_type": "execute_result"
    }
   ],
   "source": [
    "print(df['rental_gain_return'].max())\n",
    "df.loc[df['rental_gain_return']==df['rental_gain_return'].max(),'film_title'].unique()"
   ]
  },
  {
   "cell_type": "code",
   "execution_count": 18,
   "metadata": {},
   "outputs": [
    {
     "data": {
      "text/plain": [
       "16.34"
      ]
     },
     "execution_count": 18,
     "metadata": {},
     "output_type": "execute_result"
    }
   ],
   "source": [
    "df['rental_gain_return'].mean().round(2)"
   ]
  },
  {
   "cell_type": "code",
   "execution_count": 19,
   "metadata": {},
   "outputs": [
    {
     "data": {
      "text/plain": [
       "13.6"
      ]
     },
     "execution_count": 19,
     "metadata": {},
     "output_type": "execute_result"
    }
   ],
   "source": [
    "df['rental_gain_return'].median().round(2)"
   ]
  },
  {
   "cell_type": "code",
   "execution_count": 20,
   "metadata": {},
   "outputs": [
    {
     "data": {
      "text/plain": [
       "<matplotlib.lines.Line2D at 0x7f25bf7c20d0>"
      ]
     },
     "execution_count": 20,
     "metadata": {},
     "output_type": "execute_result"
    },
    {
     "data": {
      "image/png": "[encoded data removed]",
      "text/plain": [
       "<Figure size 1008x432 with 1 Axes>"
      ]
     },
     "metadata": {
      "needs_background": "light"
     },
     "output_type": "display_data"
    }
   ],
   "source": [
    "ax = df['rental_gain_return'].plot(kind='density', figsize=(14,6)) # kde\n",
    "ax.axvline(df['rental_gain_return'].mean(), color='red')\n",
    "ax.axvline(df['rental_gain_return'].median(), color='green')"
   ]
  },
  {
   "cell_type": "markdown",
   "metadata": {},
   "source": [
    "> Each rental represents <b>13.6%</b> of film cost."
   ]
  },
  {
   "cell_type": "markdown",
   "metadata": {},
   "source": [
    "So <b>7.35</b> rentals are needed to recover film market price (`film_replacement_cost`)"
   ]
  },
  {
   "cell_type": "code",
   "execution_count": 21,
   "metadata": {},
   "outputs": [
    {
     "data": {
      "text/plain": [
       "7.352941176470589"
      ]
     },
     "execution_count": 21,
     "metadata": {},
     "output_type": "execute_result"
    }
   ],
   "source": [
    "100 / 13.6"
   ]
  },
  {
   "cell_type": "markdown",
   "metadata": {},
   "source": [
    "While in average each film is rented <b>16.74</b> times."
   ]
  },
  {
   "cell_type": "code",
   "execution_count": 22,
   "metadata": {},
   "outputs": [
    {
     "data": {
      "text/plain": [
       "16.747390396659707"
      ]
     },
     "execution_count": 22,
     "metadata": {},
     "output_type": "execute_result"
    }
   ],
   "source": [
    "df['film_title'].value_counts().mean()"
   ]
  },
  {
   "cell_type": "markdown",
   "metadata": {},
   "source": [
    "![green-divider](https://user-images.githubusercontent.com/7065401/52071924-c003ad80-2562-11e9-8297-1c6595f8a7ff.png)\n",
    "\n",
    "## Selection & Indexing:"
   ]
  },
  {
   "cell_type": "markdown",
   "metadata": {},
   "source": [
    "### Get the rental records of the customer with lastname `HANSEN`"
   ]
  },
  {
   "cell_type": "code",
   "execution_count": 23,
   "metadata": {},
   "outputs": [
    {
     "data": {
      "text/html": [
       "<div>\n",
       "<style scoped>\n",
       "    .dataframe tbody tr th:only-of-type {\n",
       "        vertical-align: middle;\n",
       "    }\n",
       "\n",
       "    .dataframe tbody tr th {\n",
       "        vertical-align: top;\n",
       "    }\n",
       "\n",
       "    .dataframe thead th {\n",
       "        text-align: right;\n",
       "    }\n",
       "</style>\n",
       "<table border=\"1\" class=\"dataframe\">\n",
       "  <thead>\n",
       "    <tr style=\"text-align: right;\">\n",
       "      <th></th>\n",
       "      <th>rental_date</th>\n",
       "      <th>return_date</th>\n",
       "      <th>customer_lastname</th>\n",
       "      <th>store_id</th>\n",
       "      <th>rental_store_city</th>\n",
       "      <th>film_title</th>\n",
       "      <th>film_rental_duration</th>\n",
       "      <th>film_rental_rate</th>\n",
       "      <th>film_replacement_cost</th>\n",
       "      <th>film_rating</th>\n",
       "      <th>rental_gain_return</th>\n",
       "    </tr>\n",
       "    <tr>\n",
       "      <th>rental_id</th>\n",
       "      <th></th>\n",
       "      <th></th>\n",
       "      <th></th>\n",
       "      <th></th>\n",
       "      <th></th>\n",
       "      <th></th>\n",
       "      <th></th>\n",
       "      <th></th>\n",
       "      <th></th>\n",
       "      <th></th>\n",
       "      <th></th>\n",
       "    </tr>\n",
       "  </thead>\n",
       "  <tbody>\n",
       "    <tr>\n",
       "      <th>5</th>\n",
       "      <td>2005-05-24 23:05:21</td>\n",
       "      <td>2005-06-02 04:33:21</td>\n",
       "      <td>HANSEN</td>\n",
       "      <td>2</td>\n",
       "      <td>Woodridge</td>\n",
       "      <td>IDOLS SNATCHERS</td>\n",
       "      <td>5</td>\n",
       "      <td>2.99</td>\n",
       "      <td>29.99</td>\n",
       "      <td>NC-17</td>\n",
       "      <td>9.969990</td>\n",
       "    </tr>\n",
       "    <tr>\n",
       "      <th>134</th>\n",
       "      <td>2005-05-25 21:48:41</td>\n",
       "      <td>2005-06-02 18:28:41</td>\n",
       "      <td>HANSEN</td>\n",
       "      <td>2</td>\n",
       "      <td>Woodridge</td>\n",
       "      <td>JUMPING WRATH</td>\n",
       "      <td>4</td>\n",
       "      <td>0.99</td>\n",
       "      <td>18.99</td>\n",
       "      <td>NC-17</td>\n",
       "      <td>5.213270</td>\n",
       "    </tr>\n",
       "    <tr>\n",
       "      <th>416</th>\n",
       "      <td>2005-05-27 15:02:10</td>\n",
       "      <td>2005-05-29 10:34:10</td>\n",
       "      <td>HANSEN</td>\n",
       "      <td>2</td>\n",
       "      <td>Woodridge</td>\n",
       "      <td>LESSON CLEOPATRA</td>\n",
       "      <td>3</td>\n",
       "      <td>0.99</td>\n",
       "      <td>28.99</td>\n",
       "      <td>NC-17</td>\n",
       "      <td>3.414971</td>\n",
       "    </tr>\n",
       "    <tr>\n",
       "      <th>809</th>\n",
       "      <td>2005-05-29 19:10:20</td>\n",
       "      <td>2005-06-05 19:05:20</td>\n",
       "      <td>HANSEN</td>\n",
       "      <td>2</td>\n",
       "      <td>Woodridge</td>\n",
       "      <td>INDIAN LOVE</td>\n",
       "      <td>4</td>\n",
       "      <td>0.99</td>\n",
       "      <td>26.99</td>\n",
       "      <td>NC-17</td>\n",
       "      <td>3.668025</td>\n",
       "    </tr>\n",
       "    <tr>\n",
       "      <th>1006</th>\n",
       "      <td>2005-05-31 00:57:08</td>\n",
       "      <td>2005-06-02 22:35:08</td>\n",
       "      <td>HANSEN</td>\n",
       "      <td>2</td>\n",
       "      <td>Woodridge</td>\n",
       "      <td>SALUTE APOLLO</td>\n",
       "      <td>4</td>\n",
       "      <td>2.99</td>\n",
       "      <td>29.99</td>\n",
       "      <td>R</td>\n",
       "      <td>9.969990</td>\n",
       "    </tr>\n",
       "    <tr>\n",
       "      <th>1368</th>\n",
       "      <td>2005-06-15 14:27:47</td>\n",
       "      <td>2005-06-23 18:07:47</td>\n",
       "      <td>HANSEN</td>\n",
       "      <td>1</td>\n",
       "      <td>Lethbridge</td>\n",
       "      <td>HUNCHBACK IMPOSSIBLE</td>\n",
       "      <td>4</td>\n",
       "      <td>4.99</td>\n",
       "      <td>28.99</td>\n",
       "      <td>PG-13</td>\n",
       "      <td>17.212832</td>\n",
       "    </tr>\n",
       "    <tr>\n",
       "      <th>2603</th>\n",
       "      <td>2005-06-19 06:21:25</td>\n",
       "      <td>2005-06-26 03:19:25</td>\n",
       "      <td>HANSEN</td>\n",
       "      <td>2</td>\n",
       "      <td>Woodridge</td>\n",
       "      <td>CAT CONEHEADS</td>\n",
       "      <td>5</td>\n",
       "      <td>4.99</td>\n",
       "      <td>14.99</td>\n",
       "      <td>G</td>\n",
       "      <td>33.288859</td>\n",
       "    </tr>\n",
       "    <tr>\n",
       "      <th>5209</th>\n",
       "      <td>2005-07-09 11:22:39</td>\n",
       "      <td>2005-07-17 09:31:39</td>\n",
       "      <td>HANSEN</td>\n",
       "      <td>1</td>\n",
       "      <td>Lethbridge</td>\n",
       "      <td>WHALE BIKINI</td>\n",
       "      <td>4</td>\n",
       "      <td>4.99</td>\n",
       "      <td>11.99</td>\n",
       "      <td>PG-13</td>\n",
       "      <td>41.618015</td>\n",
       "    </tr>\n",
       "    <tr>\n",
       "      <th>5266</th>\n",
       "      <td>2005-07-09 14:17:40</td>\n",
       "      <td>2005-07-16 10:42:40</td>\n",
       "      <td>HANSEN</td>\n",
       "      <td>2</td>\n",
       "      <td>Woodridge</td>\n",
       "      <td>LOATHING LEGALLY</td>\n",
       "      <td>4</td>\n",
       "      <td>0.99</td>\n",
       "      <td>29.99</td>\n",
       "      <td>R</td>\n",
       "      <td>3.301100</td>\n",
       "    </tr>\n",
       "    <tr>\n",
       "      <th>5592</th>\n",
       "      <td>2005-07-10 04:26:13</td>\n",
       "      <td>2005-07-19 02:32:13</td>\n",
       "      <td>HANSEN</td>\n",
       "      <td>2</td>\n",
       "      <td>Woodridge</td>\n",
       "      <td>LUKE MUMMY</td>\n",
       "      <td>5</td>\n",
       "      <td>2.99</td>\n",
       "      <td>21.99</td>\n",
       "      <td>NC-17</td>\n",
       "      <td>13.597090</td>\n",
       "    </tr>\n",
       "    <tr>\n",
       "      <th>5635</th>\n",
       "      <td>2005-07-10 06:28:39</td>\n",
       "      <td>2005-07-17 08:35:39</td>\n",
       "      <td>HANSEN</td>\n",
       "      <td>2</td>\n",
       "      <td>Woodridge</td>\n",
       "      <td>FISH OPUS</td>\n",
       "      <td>4</td>\n",
       "      <td>2.99</td>\n",
       "      <td>22.99</td>\n",
       "      <td>R</td>\n",
       "      <td>13.005655</td>\n",
       "    </tr>\n",
       "    <tr>\n",
       "      <th>6129</th>\n",
       "      <td>2005-07-11 08:15:09</td>\n",
       "      <td>2005-07-18 13:00:09</td>\n",
       "      <td>HANSEN</td>\n",
       "      <td>2</td>\n",
       "      <td>Woodridge</td>\n",
       "      <td>STOCK GLASS</td>\n",
       "      <td>7</td>\n",
       "      <td>2.99</td>\n",
       "      <td>10.99</td>\n",
       "      <td>PG</td>\n",
       "      <td>27.206551</td>\n",
       "    </tr>\n",
       "    <tr>\n",
       "      <th>6497</th>\n",
       "      <td>2005-07-12 03:04:29</td>\n",
       "      <td>2005-07-17 21:36:29</td>\n",
       "      <td>HANSEN</td>\n",
       "      <td>2</td>\n",
       "      <td>Woodridge</td>\n",
       "      <td>DANCING FEVER</td>\n",
       "      <td>6</td>\n",
       "      <td>0.99</td>\n",
       "      <td>25.99</td>\n",
       "      <td>G</td>\n",
       "      <td>3.809157</td>\n",
       "    </tr>\n",
       "    <tr>\n",
       "      <th>7786</th>\n",
       "      <td>2005-07-28 07:18:26</td>\n",
       "      <td>2005-07-29 03:00:26</td>\n",
       "      <td>HANSEN</td>\n",
       "      <td>2</td>\n",
       "      <td>Woodridge</td>\n",
       "      <td>KARATE MOON</td>\n",
       "      <td>4</td>\n",
       "      <td>0.99</td>\n",
       "      <td>21.99</td>\n",
       "      <td>PG-13</td>\n",
       "      <td>4.502046</td>\n",
       "    </tr>\n",
       "    <tr>\n",
       "      <th>8300</th>\n",
       "      <td>2005-07-29 02:57:59</td>\n",
       "      <td>2005-08-05 01:12:59</td>\n",
       "      <td>HANSEN</td>\n",
       "      <td>2</td>\n",
       "      <td>Woodridge</td>\n",
       "      <td>VOYAGE LEGALLY</td>\n",
       "      <td>6</td>\n",
       "      <td>0.99</td>\n",
       "      <td>28.99</td>\n",
       "      <td>PG-13</td>\n",
       "      <td>3.414971</td>\n",
       "    </tr>\n",
       "    <tr>\n",
       "      <th>8597</th>\n",
       "      <td>2005-07-29 12:55:55</td>\n",
       "      <td>2005-08-05 18:54:55</td>\n",
       "      <td>HANSEN</td>\n",
       "      <td>1</td>\n",
       "      <td>Lethbridge</td>\n",
       "      <td>TUXEDO MILE</td>\n",
       "      <td>3</td>\n",
       "      <td>2.99</td>\n",
       "      <td>24.99</td>\n",
       "      <td>R</td>\n",
       "      <td>11.964786</td>\n",
       "    </tr>\n",
       "    <tr>\n",
       "      <th>8787</th>\n",
       "      <td>2005-07-29 20:43:49</td>\n",
       "      <td>2005-07-31 15:15:49</td>\n",
       "      <td>HANSEN</td>\n",
       "      <td>2</td>\n",
       "      <td>Woodridge</td>\n",
       "      <td>LEGALLY SECRETARY</td>\n",
       "      <td>7</td>\n",
       "      <td>4.99</td>\n",
       "      <td>14.99</td>\n",
       "      <td>PG</td>\n",
       "      <td>33.288859</td>\n",
       "    </tr>\n",
       "    <tr>\n",
       "      <th>10043</th>\n",
       "      <td>2005-07-31 19:02:07</td>\n",
       "      <td>2005-08-07 17:58:07</td>\n",
       "      <td>HANSEN</td>\n",
       "      <td>2</td>\n",
       "      <td>Woodridge</td>\n",
       "      <td>MARS ROMAN</td>\n",
       "      <td>6</td>\n",
       "      <td>0.99</td>\n",
       "      <td>21.99</td>\n",
       "      <td>NC-17</td>\n",
       "      <td>4.502046</td>\n",
       "    </tr>\n",
       "    <tr>\n",
       "      <th>12179</th>\n",
       "      <td>2005-08-18 01:21:21</td>\n",
       "      <td>2005-08-19 00:59:21</td>\n",
       "      <td>HANSEN</td>\n",
       "      <td>2</td>\n",
       "      <td>Woodridge</td>\n",
       "      <td>FOREVER CANDIDATE</td>\n",
       "      <td>7</td>\n",
       "      <td>2.99</td>\n",
       "      <td>28.99</td>\n",
       "      <td>NC-17</td>\n",
       "      <td>10.313901</td>\n",
       "    </tr>\n",
       "    <tr>\n",
       "      <th>13477</th>\n",
       "      <td>2005-08-20 01:07:00</td>\n",
       "      <td>2005-08-26 02:47:00</td>\n",
       "      <td>HANSEN</td>\n",
       "      <td>2</td>\n",
       "      <td>Woodridge</td>\n",
       "      <td>FINDING ANACONDA</td>\n",
       "      <td>4</td>\n",
       "      <td>0.99</td>\n",
       "      <td>10.99</td>\n",
       "      <td>R</td>\n",
       "      <td>9.008189</td>\n",
       "    </tr>\n",
       "    <tr>\n",
       "      <th>14350</th>\n",
       "      <td>2005-08-21 08:58:38</td>\n",
       "      <td>2005-08-30 03:29:38</td>\n",
       "      <td>HANSEN</td>\n",
       "      <td>1</td>\n",
       "      <td>Lethbridge</td>\n",
       "      <td>PRIMARY GLASS</td>\n",
       "      <td>7</td>\n",
       "      <td>0.99</td>\n",
       "      <td>16.99</td>\n",
       "      <td>G</td>\n",
       "      <td>5.826957</td>\n",
       "    </tr>\n",
       "  </tbody>\n",
       "</table>\n",
       "</div>"
      ],
      "text/plain": [
       "                  rental_date         return_date customer_lastname  store_id  \\\n",
       "rental_id                                                                       \n",
       "5         2005-05-24 23:05:21 2005-06-02 04:33:21            HANSEN         2   \n",
       "134       2005-05-25 21:48:41 2005-06-02 18:28:41            HANSEN         2   \n",
       "416       2005-05-27 15:02:10 2005-05-29 10:34:10            HANSEN         2   \n",
       "809       2005-05-29 19:10:20 2005-06-05 19:05:20            HANSEN         2   \n",
       "1006      2005-05-31 00:57:08 2005-06-02 22:35:08            HANSEN         2   \n",
       "1368      2005-06-15 14:27:47 2005-06-23 18:07:47            HANSEN         1   \n",
       "2603      2005-06-19 06:21:25 2005-06-26 03:19:25            HANSEN         2   \n",
       "5209      2005-07-09 11:22:39 2005-07-17 09:31:39            HANSEN         1   \n",
       "5266      2005-07-09 14:17:40 2005-07-16 10:42:40            HANSEN         2   \n",
       "5592      2005-07-10 04:26:13 2005-07-19 02:32:13            HANSEN         2   \n",
       "5635      2005-07-10 06:28:39 2005-07-17 08:35:39            HANSEN         2   \n",
       "6129      2005-07-11 08:15:09 2005-07-18 13:00:09            HANSEN         2   \n",
       "6497      2005-07-12 03:04:29 2005-07-17 21:36:29            HANSEN         2   \n",
       "7786      2005-07-28 07:18:26 2005-07-29 03:00:26            HANSEN         2   \n",
       "8300      2005-07-29 02:57:59 2005-08-05 01:12:59            HANSEN         2   \n",
       "8597      2005-07-29 12:55:55 2005-08-05 18:54:55            HANSEN         1   \n",
       "8787      2005-07-29 20:43:49 2005-07-31 15:15:49            HANSEN         2   \n",
       "10043     2005-07-31 19:02:07 2005-08-07 17:58:07            HANSEN         2   \n",
       "12179     2005-08-18 01:21:21 2005-08-19 00:59:21            HANSEN         2   \n",
       "13477     2005-08-20 01:07:00 2005-08-26 02:47:00            HANSEN         2   \n",
       "14350     2005-08-21 08:58:38 2005-08-30 03:29:38            HANSEN         1   \n",
       "\n",
       "          rental_store_city            film_title  film_rental_duration  \\\n",
       "rental_id                                                                 \n",
       "5                 Woodridge       IDOLS SNATCHERS                     5   \n",
       "134               Woodridge         JUMPING WRATH                     4   \n",
       "416               Woodridge      LESSON CLEOPATRA                     3   \n",
       "809               Woodridge           INDIAN LOVE                     4   \n",
       "1006              Woodridge         SALUTE APOLLO                     4   \n",
       "1368             Lethbridge  HUNCHBACK IMPOSSIBLE                     4   \n",
       "2603              Woodridge         CAT CONEHEADS                     5   \n",
       "5209             Lethbridge          WHALE BIKINI                     4   \n",
       "5266              Woodridge      LOATHING LEGALLY                     4   \n",
       "5592              Woodridge            LUKE MUMMY                     5   \n",
       "5635              Woodridge             FISH OPUS                     4   \n",
       "6129              Woodridge           STOCK GLASS                     7   \n",
       "6497              Woodridge         DANCING FEVER                     6   \n",
       "7786              Woodridge           KARATE MOON                     4   \n",
       "8300              Woodridge        VOYAGE LEGALLY                     6   \n",
       "8597             Lethbridge           TUXEDO MILE                     3   \n",
       "8787              Woodridge     LEGALLY SECRETARY                     7   \n",
       "10043             Woodridge            MARS ROMAN                     6   \n",
       "12179             Woodridge     FOREVER CANDIDATE                     7   \n",
       "13477             Woodridge      FINDING ANACONDA                     4   \n",
       "14350            Lethbridge         PRIMARY GLASS                     7   \n",
       "\n",
       "           film_rental_rate  film_replacement_cost film_rating  \\\n",
       "rental_id                                                        \n",
       "5                      2.99                  29.99       NC-17   \n",
       "134                    0.99                  18.99       NC-17   \n",
       "416                    0.99                  28.99       NC-17   \n",
       "809                    0.99                  26.99       NC-17   \n",
       "1006                   2.99                  29.99           R   \n",
       "1368                   4.99                  28.99       PG-13   \n",
       "2603                   4.99                  14.99           G   \n",
       "5209                   4.99                  11.99       PG-13   \n",
       "5266                   0.99                  29.99           R   \n",
       "5592                   2.99                  21.99       NC-17   \n",
       "5635                   2.99                  22.99           R   \n",
       "6129                   2.99                  10.99          PG   \n",
       "6497                   0.99                  25.99           G   \n",
       "7786                   0.99                  21.99       PG-13   \n",
       "8300                   0.99                  28.99       PG-13   \n",
       "8597                   2.99                  24.99           R   \n",
       "8787                   4.99                  14.99          PG   \n",
       "10043                  0.99                  21.99       NC-17   \n",
       "12179                  2.99                  28.99       NC-17   \n",
       "13477                  0.99                  10.99           R   \n",
       "14350                  0.99                  16.99           G   \n",
       "\n",
       "           rental_gain_return  \n",
       "rental_id                      \n",
       "5                    9.969990  \n",
       "134                  5.213270  \n",
       "416                  3.414971  \n",
       "809                  3.668025  \n",
       "1006                 9.969990  \n",
       "1368                17.212832  \n",
       "2603                33.288859  \n",
       "5209                41.618015  \n",
       "5266                 3.301100  \n",
       "5592                13.597090  \n",
       "5635                13.005655  \n",
       "6129                27.206551  \n",
       "6497                 3.809157  \n",
       "7786                 4.502046  \n",
       "8300                 3.414971  \n",
       "8597                11.964786  \n",
       "8787                33.288859  \n",
       "10043                4.502046  \n",
       "12179               10.313901  \n",
       "13477                9.008189  \n",
       "14350                5.826957  "
      ]
     },
     "execution_count": 23,
     "metadata": {},
     "output_type": "execute_result"
    }
   ],
   "source": [
    "df.loc[df['customer_lastname'] == 'HANSEN']"
   ]
  },
  {
   "cell_type": "markdown",
   "metadata": {},
   "source": [
    "### Create a list of all the films with the highest replacement cost"
   ]
  },
  {
   "cell_type": "code",
   "execution_count": 24,
   "metadata": {},
   "outputs": [
    {
     "data": {
      "text/plain": [
       "29.99"
      ]
     },
     "execution_count": 24,
     "metadata": {},
     "output_type": "execute_result"
    }
   ],
   "source": [
    "df['film_replacement_cost'].max()"
   ]
  },
  {
   "cell_type": "code",
   "execution_count": 25,
   "metadata": {},
   "outputs": [
    {
     "data": {
      "text/plain": [
       "array(['IDOLS SNATCHERS', 'LAWLESS VISION', 'SONG HEDWIG',\n",
       "       'LOATHING LEGALLY', 'PATIENT SISTER', 'RESERVOIR ADAPTATION',\n",
       "       'JEEPERS WEDDING', 'GOLDFINGER SENSIBILITY', 'CHARIOTS CONSPIRACY',\n",
       "       'HONEY TIES', 'GRAFFITI LOVE', 'SLACKER LIAISONS', 'DIRTY ACE',\n",
       "       'BLINDNESS GUN', 'WYOMING STORM', 'FEUD FROGMEN', 'SALUTE APOLLO',\n",
       "       'JINGLE SAGEBRUSH', 'HILLS NEIGHBORS', 'UNCUT SUICIDES',\n",
       "       'EVERYONE CRAFT', 'FLATLINERS KILLER', 'BALLROOM MOCKINGBIRD',\n",
       "       'RIVER OUTLAW', 'ARABIA DOGMA', 'VIRGIN DAISY', 'JERICHO MULAN',\n",
       "       'SASSY PACKER', 'TRACY CIDER', 'LOVER TRUMAN', 'DOCTOR GRAIL',\n",
       "       'GILMORE BOILED', 'PRINCESS GIANT', 'CRUELTY UNFORGIVEN',\n",
       "       'REIGN GENTLEMEN', 'WEST LION', 'BONNIE HOLOCAUST', 'EARTH VISION',\n",
       "       'RANDOM GO', 'CLOCKWORK PARADISE', 'FANTASIA PARK', 'RIGHT CRANES',\n",
       "       'CUPBOARD SINNERS', 'OSCAR GOLD', 'SMILE EARRING',\n",
       "       'HOLLYWOOD ANONYMOUS', 'POSEIDON FOREVER',\n",
       "       'EXTRAORDINARY CONQUERER', 'QUEST MUSSOLINI', 'JAPANESE RUN',\n",
       "       'CLYDE THEORY', 'DESPERATE TRAINSPOTTING'], dtype=object)"
      ]
     },
     "execution_count": 25,
     "metadata": {},
     "output_type": "execute_result"
    }
   ],
   "source": [
    "df.loc[df['film_replacement_cost'] == df['film_replacement_cost'].max(), 'film_title'].unique()"
   ]
  },
  {
   "cell_type": "markdown",
   "metadata": {},
   "source": [
    "### How many `PG` or `PG-13` rating films were rented?"
   ]
  },
  {
   "cell_type": "code",
   "execution_count": 26,
   "metadata": {},
   "outputs": [
    {
     "data": {
      "text/plain": [
       "6797"
      ]
     },
     "execution_count": 26,
     "metadata": {},
     "output_type": "execute_result"
    }
   ],
   "source": [
    "df.loc[(df['film_rating'] == 'PG') | (df['film_rating'] == 'PG-13')].shape[0]"
   ]
  },
  {
   "cell_type": "markdown",
   "metadata": {},
   "source": [
    "![purple-divider](https://user-images.githubusercontent.com/7065401/52071927-c1cd7100-2562-11e9-908a-dde91ba14e59.png)"
   ]
  }
 ],
 "metadata": {
  "kernelspec": {
   "display_name": "Python 3 (ipykernel)",
   "language": "python",
   "name": "python3"
  },
  "language_info": {
   "codemirror_mode": {
    "name": "ipython",
    "version": 3
   },
   "file_extension": ".py",
   "mimetype": "text/x-python",
   "name": "python",
   "nbconvert_exporter": "python",
   "pygments_lexer": "ipython3",
   "version": "3.8.9"
  }
 },
 "nbformat": 4,
 "nbformat_minor": 4
}
